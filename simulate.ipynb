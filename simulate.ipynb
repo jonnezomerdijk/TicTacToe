{
 "cells": [
  {
   "cell_type": "code",
   "execution_count": 2,
   "metadata": {},
   "outputs": [
    {
     "name": "stdout",
     "output_type": "stream",
     "text": [
      "pygame 2.4.0 (SDL 2.26.4, Python 3.9.12)\n",
      "Hello from the pygame community. https://www.pygame.org/contribute.html\n"
     ]
    }
   ],
   "source": [
    "import sys\n",
    "import pygame as pg\n",
    "from play import main\n",
    "from config import *\n",
    "from IPython import get_ipython\n",
    "from neuralnet import NN"
   ]
  },
  {
   "cell_type": "code",
   "execution_count": 3,
   "metadata": {},
   "outputs": [],
   "source": [
    "nn = NN()\n",
    "model = nn.model"
   ]
  },
  {
   "cell_type": "code",
   "execution_count": 4,
   "metadata": {},
   "outputs": [
    {
     "data": {
      "image/png": "[encoded data removed]",
      "text/plain": [
       "<IPython.core.display.Image object>"
      ]
     },
     "execution_count": 4,
     "metadata": {},
     "output_type": "execute_result"
    }
   ],
   "source": [
    "nn.plot_model()"
   ]
  },
  {
   "cell_type": "code",
   "execution_count": 5,
   "metadata": {},
   "outputs": [
    {
     "name": "stdout",
     "output_type": "stream",
     "text": [
      "done with random AI\n",
      "done with minmax AI\n"
     ]
    }
   ],
   "source": [
    "# gather data against random AI, minmax AI\n",
    "games1 = [main(sim=True, model=0) for _ in range(5000)]\n",
    "print('done with random AI')\n",
    "games2 = [main(sim=True, model=1) for _ in range(5000)]\n",
    "print('done with minmax AI')\n",
    "games = games1 + games2"
   ]
  },
  {
   "cell_type": "code",
   "execution_count": 6,
   "metadata": {},
   "outputs": [],
   "source": [
    "print_epochs = False\n",
    "verbose = 1 if print_epochs else 0\n",
    "\n",
    "X_train, X_test, y_train, y_test = nn.gamesToWinLossData(games)\n",
    "history = model.fit(X_train, y_train, validation_data=(X_test, y_test), epochs=100, batch_size=100, verbose=verbose)"
   ]
  },
  {
   "cell_type": "code",
   "execution_count": 11,
   "metadata": {},
   "outputs": [],
   "source": [
    "games2 = [main(sim=True,model=model) for _ in range(1000)]"
   ]
  },
  {
   "cell_type": "code",
   "execution_count": 12,
   "metadata": {},
   "outputs": [],
   "source": [
    "gamesminimax = [main(sim=True,model='minmax') for _ in range(1000)]"
   ]
  },
  {
   "cell_type": "code",
   "execution_count": 7,
   "metadata": {},
   "outputs": [],
   "source": [
    "gamesmix = [main(sim=True,model=model) for _ in range(1000)]"
   ]
  },
  {
   "cell_type": "code",
   "execution_count": 7,
   "metadata": {},
   "outputs": [
    {
     "name": "stdout",
     "output_type": "stream",
     "text": [
      "Results for player 2:\n",
      "Wins: 62 (62.0%)\n",
      "Loss: 10 (10.0%)\n",
      "Draw: 28 (28.0%)\n"
     ]
    }
   ],
   "source": [
    "nn.gameStats(games2)"
   ]
  },
  {
   "cell_type": "code",
   "execution_count": 13,
   "metadata": {},
   "outputs": [
    {
     "name": "stdout",
     "output_type": "stream",
     "text": [
      "Results for player 2:\n",
      "Wins: 807 (80.7%)\n",
      "Loss: 0 (0.0%)\n",
      "Draw: 193 (19.3%)\n"
     ]
    }
   ],
   "source": [
    "nn.gameStats(gamesminimax)"
   ]
  },
  {
   "cell_type": "code",
   "execution_count": 8,
   "metadata": {},
   "outputs": [
    {
     "name": "stdout",
     "output_type": "stream",
     "text": [
      "Results for player 2:\n",
      "Wins: 792 (79.2%)\n",
      "Loss: 29 (2.9%)\n",
      "Draw: 179 (17.9%)\n"
     ]
    }
   ],
   "source": [
    "nn.gameStats(gamesmix)"
   ]
  },
  {
   "cell_type": "code",
   "execution_count": 9,
   "metadata": {},
   "outputs": [
    {
     "name": "stdout",
     "output_type": "stream",
     "text": [
      "INFO:tensorflow:Assets written to: NNwins79/assets\n"
     ]
    },
    {
     "name": "stderr",
     "output_type": "stream",
     "text": [
      "INFO:tensorflow:Assets written to: NNwins79/assets\n"
     ]
    },
    {
     "ename": "",
     "evalue": "",
     "output_type": "error",
     "traceback": [
      "\u001b[1;31mThe Kernel crashed while executing code in the the current cell or a previous cell. Please review the code in the cell(s) to identify a possible cause of the failure. Click <a href='https://aka.ms/vscodeJupyterKernelCrash'>here</a> for more info. View Jupyter <a href='command:jupyter.viewOutput'>log</a> for further details."
     ]
    }
   ],
   "source": [
    "model.save('NNwins79')"
   ]
  }
 ],
 "metadata": {
  "kernelspec": {
   "display_name": "Python 3.9.12 ('base')",
   "language": "python",
   "name": "python3"
  },
  "language_info": {
   "codemirror_mode": {
    "name": "ipython",
    "version": 3
   },
   "file_extension": ".py",
   "mimetype": "text/x-python",
   "name": "python",
   "nbconvert_exporter": "python",
   "pygments_lexer": "ipython3",
   "version": "3.9.12"
  },
  "orig_nbformat": 4,
  "vscode": {
   "interpreter": {
    "hash": "e667d8e1c01ae1ea2d1a472c53eac3ebc0e97090f4af455565cba983e6087752"
   }
  }
 },
 "nbformat": 4,
 "nbformat_minor": 2
}
